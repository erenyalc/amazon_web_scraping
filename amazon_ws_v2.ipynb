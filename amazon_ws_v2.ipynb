{
 "cells": [
  {
   "cell_type": "code",
   "execution_count": null,
   "metadata": {},
   "outputs": [],
   "source": [
    "import csv\n",
    "from bs4 import BeautifulSoup\n",
    "# Firefox ve Crome için\n",
    "from selenium import webdriver\n",
    "# MsEdge için\n",
    "from msedge.selenium_tools import Edge, EdgeOptions"
   ]
  },
  {
   "cell_type": "code",
   "execution_count": null,
   "metadata": {},
   "outputs": [],
   "source": [
    "#Firefox ve Crome için\n",
    "#driver = webdriver.Firefox()\n",
    "#driver = webdriver.Chrome()\n",
    "\n",
    "#Edge için\n",
    "options = EdgeOptions()\n",
    "options.use_chromium = True\n",
    "driver = Edge(options = options)"
   ]
  },
  {
   "cell_type": "code",
   "execution_count": null,
   "metadata": {},
   "outputs": [],
   "source": [
    "url = 'https://www.amazon.com'\n",
    "driver.get(url)"
   ]
  },
  {
   "cell_type": "code",
   "execution_count": null,
   "metadata": {},
   "outputs": [],
   "source": [
    "# Bir arama yapıldığında (kindle) örnek link şu şekildedir:\n",
    "# https://www.amazon.com/s?k=kindle&sprefix=kin%2Caps%2C243&ref=nb_sb_ss_ts-doa-p_1_3\n",
    "#ortadaki kindle yazısına ulaşmak için:\n",
    "\n",
    "def get_url(search_term):\n",
    "    template = 'https://www.amazon.com/s?k={}&sprefix=kin%2Caps%2C243&ref=nb_sb_ss_ts-doa-p_1_3'\n",
    "    #aramada birden fazla kelime olursa aralarına '+' işareti atmak için;\n",
    "    search_term = search_term.replace(' ', '+')\n",
    "    return template.format(search_term)"
   ]
  },
  {
   "cell_type": "code",
   "execution_count": null,
   "metadata": {},
   "outputs": [],
   "source": [
    "#örnek link göründü\n",
    "url = get_url('kindle')\n",
    "print(url)"
   ]
  },
  {
   "cell_type": "code",
   "execution_count": null,
   "metadata": {},
   "outputs": [],
   "source": [
    "driver.get_url"
   ]
  },
  {
   "cell_type": "markdown",
   "metadata": {},
   "source": [
    "Veri Toplama"
   ]
  },
  {
   "cell_type": "code",
   "execution_count": null,
   "metadata": {},
   "outputs": [],
   "source": [
    "soup = BeautifulSoup(driver.page_source, 'html.parser')"
   ]
  },
  {
   "cell_type": "code",
   "execution_count": null,
   "metadata": {},
   "outputs": [],
   "source": [
    "# istenen girdi ile ilgili tüm değerleri getirir\n",
    "results = soup.find_all('div', {'data-component-type': 's-search-result'})\n",
    "len(results)"
   ]
  },
  {
   "cell_type": "markdown",
   "metadata": {},
   "source": [
    "Url'yi çekmek"
   ]
  },
  {
   "cell_type": "code",
   "execution_count": null,
   "metadata": {},
   "outputs": [],
   "source": [
    "item = results[0]"
   ]
  },
  {
   "cell_type": "code",
   "execution_count": null,
   "metadata": {},
   "outputs": [],
   "source": [
    "# amazon sitesini incelersek ürün başlıklarını h2 tag'i içinde göreceğiz\n",
    "atag = item.h2.a"
   ]
  },
  {
   "cell_type": "code",
   "execution_count": null,
   "metadata": {},
   "outputs": [],
   "source": [
    "description = atag.text.strip()"
   ]
  },
  {
   "cell_type": "code",
   "execution_count": null,
   "metadata": {},
   "outputs": [],
   "source": [
    "url = 'https://www.amazon.com' + atag.get('href')"
   ]
  },
  {
   "cell_type": "markdown",
   "metadata": {},
   "source": [
    "Fiyatları Çekmek"
   ]
  },
  {
   "cell_type": "code",
   "execution_count": null,
   "metadata": {},
   "outputs": [],
   "source": [
    "#span'ın içindeki a-price tag'i ana tag'imizdir. Onun da içindeki a-offscreen tag'inde ise fiyatlar yazmaktadır.\n",
    "price_parent = item.find('span', 'a-price')"
   ]
  },
  {
   "cell_type": "code",
   "execution_count": null,
   "metadata": {},
   "outputs": [],
   "source": [
    "price_parent.find('span', 'a-offscreen')"
   ]
  },
  {
   "cell_type": "code",
   "execution_count": null,
   "metadata": {},
   "outputs": [],
   "source": [
    "price = price_parent.find('span', 'a-offscreen').text"
   ]
  },
  {
   "cell_type": "markdown",
   "metadata": {},
   "source": [
    "Puanları Çekmek"
   ]
  },
  {
   "cell_type": "code",
   "execution_count": null,
   "metadata": {},
   "outputs": [],
   "source": [
    "rating = item.i.text"
   ]
  },
  {
   "cell_type": "code",
   "execution_count": null,
   "metadata": {},
   "outputs": [],
   "source": [
    "#Puanları ve toplam oy sayısını gösterir\n",
    "review_count = item.find('span', {'class': 'a-size-base', 'dir': 'auto'}).text"
   ]
  },
  {
   "cell_type": "markdown",
   "metadata": {},
   "source": [
    "Hepsini tek bir yerde göstermek için"
   ]
  },
  {
   "cell_type": "code",
   "execution_count": null,
   "metadata": {},
   "outputs": [],
   "source": [
    "def extract_record(item):\n",
    "    #açıklama ve url\n",
    "    atag = item.h2.a\n",
    "    description = atag.text.strip()\n",
    "    url = 'https://www.amazon.com' + atag.get('href')\n",
    "    \n",
    "    #fiyat\n",
    "    price_parent = item.find('span', 'a-price')\n",
    "    price = price_parent.find('span', 'a-offscreen').text\n",
    "    \n",
    "    #puan\n",
    "    rating = item.i.text\n",
    "    review_count = item.find('span', {'class': 'a-size-base', 'dir': 'auto'}).text\n",
    "    \n",
    "    \n",
    "    result = (description, price, rating, review_count, url)\n",
    "    return result"
   ]
  },
  {
   "cell_type": "code",
   "execution_count": null,
   "metadata": {},
   "outputs": [],
   "source": [
    "records = []\n",
    "results = soup.find_all(\"div{'data-component-type': 's-search-result}\")\n",
    "\n",
    "for item in results:\n",
    "    records.append(extract_records(item))"
   ]
  },
  {
   "cell_type": "markdown",
   "metadata": {},
   "source": [
    "Hata Ayıklama"
   ]
  },
  {
   "cell_type": "code",
   "execution_count": null,
   "metadata": {},
   "outputs": [],
   "source": [
    "#Bazı ürünlerin fiyatları veya puanları olmadığı için hata verecektir. Bunu düzeltmek için:"
   ]
  },
  {
   "cell_type": "code",
   "execution_count": null,
   "metadata": {},
   "outputs": [],
   "source": [
    "def extract_record(item):\n",
    "    #açıklama ve url\n",
    "    atag = item.h2.a\n",
    "    description = atag.text.strip()\n",
    "    url = 'https://www.amazon.com' + atag.get('href')\n",
    "    \n",
    "    #fiyat\n",
    "    try:\n",
    "        price_parent = item.find('span', 'a-price')\n",
    "        price = price_parent.find('span', 'a-offscreen').text\n",
    "    except AttributeError:\n",
    "        return    \n",
    "    #puan\n",
    "    try:\n",
    "        rating = item.i.text\n",
    "        review_count = item.find('span', {'class': 'a-size-base', 'dir': 'auto'}).text\n",
    "    except AttributeError:\n",
    "        rating = ' '\n",
    "        review_count = ' '\n",
    "    \n",
    "    result = (description, price, rating, review_count, url)\n",
    "    return result"
   ]
  },
  {
   "cell_type": "code",
   "execution_count": null,
   "metadata": {},
   "outputs": [],
   "source": [
    "records = []\n",
    "results = soup.find_all(\"div{'data-component-type': 's-search-result}\")\n",
    "\n",
    "for item in results:\n",
    "    record = extract_record(item)\n",
    "    if record:\n",
    "        records.append(record)"
   ]
  },
  {
   "cell_type": "code",
   "execution_count": null,
   "metadata": {},
   "outputs": [],
   "source": [
    "#örnek çıktı görmek için\n",
    "record[0]"
   ]
  },
  {
   "cell_type": "code",
   "execution_count": null,
   "metadata": {},
   "outputs": [],
   "source": [
    "#örneğin bütün fiyatları görmek istersek\n",
    "for row in records:\n",
    "    print(row[1])"
   ]
  },
  {
   "cell_type": "markdown",
   "metadata": {},
   "source": [
    "Sonraki sayfalara erişmek"
   ]
  },
  {
   "cell_type": "code",
   "execution_count": null,
   "metadata": {},
   "outputs": [],
   "source": [
    "#Eğer kindle yazıp 2. sayfaya tıklarsam link şu şekilde olur:\n",
    "#https://www.amazon.com.tr/s?k=kindle&page=2&__mk_tr_TR=%C3%85M%C3%85%C5%BD%C3%95%C3%91&crid=ITUXR3K0FLF5&qid=1660681078&sprefix=kindle%2Caps%2C224&ref=sr_pg_2\n",
    "#linkin içinde kindle'dan sonra &'ler içinde page=2 yazmaktadır. Bu kısıma ulaşmak gerekmektedir.\n",
    "\n",
    "\n",
    "def get_url(search_term):\n",
    "    template = 'https://www.amazon.com/s?k={}&sprefix=kin%2Caps%2C243&ref=nb_sb_ss_ts-doa-p_1_3'\n",
    "    #aramada birden fazla kelime olursa aralarına '+' işareti atmak için;\n",
    "    search_term = search_term.replace(' ', '+')\n",
    "    url = template.format(search_term)\n",
    "    \n",
    "    #url'ye placeholder ekleme\n",
    "    url += '&page{}'\n",
    "    \n",
    "    return url"
   ]
  },
  {
   "cell_type": "markdown",
   "metadata": {},
   "source": [
    "Hepsini Birleştirmek -- Sonuç"
   ]
  },
  {
   "cell_type": "markdown",
   "metadata": {},
   "source": [
    "Diğer kısımların toplamı olduğu için sadece bu kısım çalıştırılsa yeterli olacaktır"
   ]
  },
  {
   "cell_type": "code",
   "execution_count": null,
   "metadata": {},
   "outputs": [],
   "source": [
    "import csv\n",
    "from bs4 import BeautifulSoup\n",
    "# Firefox ve Crome için\n",
    "from selenium import webdriver\n",
    "# MsEdge için\n",
    "from msedge.selenium_tools import Edge, EdgeOptions\n",
    "\n",
    "def get_url(search_term):\n",
    "    template = 'https://www.amazon.com/s?k={}&sprefix=kin%2Caps%2C243&ref=nb_sb_ss_ts-doa-p_1_3'\n",
    "    #aramada birden fazla kelime olursa aralarına '+' işareti atmak için;\n",
    "    search_term = search_term.replace(' ', '+')\n",
    "    url = template.format(search_term)\n",
    "    \n",
    "    #url'ye placeholder ekleme\n",
    "    url += '&page{}'\n",
    "    \n",
    "    return url\n",
    "\n",
    "def extract_record(item):\n",
    "    #açıklama ve url\n",
    "    atag = item.h2.a\n",
    "    description = atag.text.strip()\n",
    "    url = 'https://www.amazon.com' + atag.get('href')\n",
    "    \n",
    "    #fiyat\n",
    "    try:\n",
    "        price_parent = item.find('span', 'a-price')\n",
    "        price = price_parent.find('span', 'a-offscreen').text\n",
    "    except AttributeError:\n",
    "        return    \n",
    "    #puan\n",
    "    try:\n",
    "        rating = item.i.text\n",
    "        review_count = item.find('span', {'class': 'a-size-base', 'dir': 'auto'}).text\n",
    "    except AttributeError:\n",
    "        rating = ' '\n",
    "        review_count = ' '\n",
    "    \n",
    "    result = (description, price, rating, review_count, url)\n",
    "    return result\n",
    "# ana fonksiyon oluşturulup her şey bunun içinde gösterilecektir.\n",
    "def main(search_term):\n",
    "    \n",
    "    options = EdgeOptions()\n",
    "    options.use_chromium = True\n",
    "    driver = Edge(options = options)\n",
    "    \n",
    "    record = []\n",
    "    url = get_url(search_term)\n",
    "    records = []\n",
    "    \n",
    "    for page in range (1, 8): # toplam 7 sayfaya da erişmek istediğim için 1 ile 8 arasını kullandım.\n",
    "        driver.get(url.format(page))\n",
    "        soup = BeautifulSoup(driver.page_source, 'html.parser')\n",
    "        results = soup.find_all('div', {'data-component-type': 's-search-result'})\n",
    "        \n",
    "        for item in results:\n",
    "            record = extract_record(item)\n",
    "            if record:\n",
    "                records.append(record)\n",
    "    driver.close()\n",
    "    \n",
    "    #csv'ye kaydetmek\n",
    "    with open('amazon_ws.csv', 'w', newline='', encoding='utf-8') as f:\n",
    "        writer = csv.writer(f)\n",
    "        writer.writerow(['Description', 'Price', 'Rating', 'Review_Count', 'URL'])\n",
    "        writer.writerows(records)\n",
    "\n",
    "main('kindle')"
   ]
  },
  {
   "cell_type": "code",
   "execution_count": null,
   "metadata": {},
   "outputs": [],
   "source": []
  }
 ],
 "metadata": {
  "language_info": {
   "name": "python"
  },
  "orig_nbformat": 4
 },
 "nbformat": 4,
 "nbformat_minor": 2
}
